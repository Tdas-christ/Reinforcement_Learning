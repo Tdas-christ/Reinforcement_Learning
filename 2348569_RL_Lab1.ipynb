{
  "nbformat": 4,
  "nbformat_minor": 0,
  "metadata": {
    "colab": {
      "provenance": []
    },
    "kernelspec": {
      "name": "python3",
      "display_name": "Python 3"
    },
    "language_info": {
      "name": "python"
    }
  },
  "cells": [
    {
      "cell_type": "code",
      "execution_count": null,
      "metadata": {
        "id": "ekftPXYUGGKq"
      },
      "outputs": [],
      "source": [
        "import numpy as np\n",
        "import random"
      ]
    },
    {
      "cell_type": "code",
      "source": [
        "# Define the ad slots and their \"true\" CTRs (simulated, for example purposes)\n",
        "ad_slots = ['Top Banner', 'Sidebar', 'Footer', 'Pop-up']\n",
        "true_ctrs = [0.05, 0.03, 0.02, 0.08]  # True click-through rates for each ad slot"
      ],
      "metadata": {
        "id": "6WrCoEaZGYb5"
      },
      "execution_count": null,
      "outputs": []
    },
    {
      "cell_type": "code",
      "source": [
        "# Number of impressions\n",
        "num_impressions = 1000"
      ],
      "metadata": {
        "id": "yxNHr6x1Gcba"
      },
      "execution_count": null,
      "outputs": []
    },
    {
      "cell_type": "code",
      "source": [
        "# Epsilon-greedy parameters\n",
        "epsilon = 0.1  # Exploration rate (10%)\n",
        "num_slots = len(ad_slots)"
      ],
      "metadata": {
        "id": "I9BojsALGfRG"
      },
      "execution_count": null,
      "outputs": []
    },
    {
      "cell_type": "code",
      "source": [
        "# Initialize estimated CTRs and counts for each ad slot\n",
        "estimated_ctrs = [0.0] * num_slots  # Starting estimated CTR for each slot\n",
        "slot_counts = [0] * num_slots  # Count of how many times each slot has been selected"
      ],
      "metadata": {
        "id": "YxpfUFgMGhqb"
      },
      "execution_count": null,
      "outputs": []
    },
    {
      "cell_type": "code",
      "source": [
        "# Function to simulate a click based on the true CTR\n",
        "def simulate_click(slot):\n",
        "    return 1 if random.random() < true_ctrs[slot] else 0"
      ],
      "metadata": {
        "id": "dQ_VJS2_GkCd"
      },
      "execution_count": null,
      "outputs": []
    },
    {
      "cell_type": "code",
      "source": [
        "# Epsilon-Greedy Algorithm\n",
        "total_rewards = 0\n",
        "rewards_history = []"
      ],
      "metadata": {
        "id": "9NwwCc95GnEK"
      },
      "execution_count": null,
      "outputs": []
    },
    {
      "cell_type": "code",
      "source": [
        "for i in range(num_impressions):\n",
        "    # Exploration vs. Exploitation\n",
        "    if random.random() < epsilon:\n",
        "        # Exploration: Select a random slot\n",
        "        selected_slot = random.randint(0, num_slots - 1)\n",
        "    else:\n",
        "        # Exploitation: Select the slot with the highest estimated CTR\n",
        "        selected_slot = np.argmax(estimated_ctrs)\n",
        "\n",
        "    # Simulate showing the ad in the selected slot\n",
        "    reward = simulate_click(selected_slot)\n",
        "\n",
        "    # Update the slot's count and estimated CTR\n",
        "    slot_counts[selected_slot] += 1\n",
        "    estimated_ctrs[selected_slot] += (reward - estimated_ctrs[selected_slot]) / slot_counts[selected_slot]\n",
        "\n",
        "    # Update total rewards\n",
        "    total_rewards += reward\n",
        "    rewards_history.append(total_rewards)"
      ],
      "metadata": {
        "id": "9IakP6nGGpMV"
      },
      "execution_count": null,
      "outputs": []
    },
    {
      "cell_type": "code",
      "source": [
        "# Final results\n",
        "print(\"Ad Slot Performance After 1000 Impressions:\")\n",
        "for slot in range(num_slots):\n",
        "    print(f\"{ad_slots[slot]}: Estimated CTR = {estimated_ctrs[slot]:.4f}, Selected {slot_counts[slot]} times\")\n",
        "\n",
        "# Total clicks\n",
        "print(f\"\\nTotal Clicks after {num_impressions} impressions: {total_rewards}\")\n"
      ],
      "metadata": {
        "colab": {
          "base_uri": "https://localhost:8080/"
        },
        "id": "BGxbATLwGteA",
        "outputId": "5c402929-cfbf-4449-91cc-64f42e9ab7fb"
      },
      "execution_count": null,
      "outputs": [
        {
          "output_type": "stream",
          "name": "stdout",
          "text": [
            "Ad Slot Performance After 1000 Impressions:\n",
            "Top Banner: Estimated CTR = 0.0422, Selected 948 times\n",
            "Sidebar: Estimated CTR = 0.0000, Selected 24 times\n",
            "Footer: Estimated CTR = 0.0000, Selected 16 times\n",
            "Pop-up: Estimated CTR = 0.0000, Selected 12 times\n",
            "\n",
            "Total Clicks after 1000 impressions: 40\n"
          ]
        }
      ]
    }
  ]
}