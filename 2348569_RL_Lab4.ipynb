{
  "nbformat": 4,
  "nbformat_minor": 0,
  "metadata": {
    "colab": {
      "provenance": [],
      "authorship_tag": "ABX9TyPaeLgcDaYfFnyz7xQlVZpG",
      "include_colab_link": true
    },
    "kernelspec": {
      "name": "python3",
      "display_name": "Python 3"
    },
    "language_info": {
      "name": "python"
    }
  },
  "cells": [
    {
      "cell_type": "markdown",
      "metadata": {
        "id": "view-in-github",
        "colab_type": "text"
      },
      "source": [
        "<a href=\"https://colab.research.google.com/github/Tdas-christ/Reinforcement_Learning/blob/main/2348569_RL_Lab4.ipynb\" target=\"_parent\"><img src=\"https://colab.research.google.com/assets/colab-badge.svg\" alt=\"Open In Colab\"/></a>"
      ]
    },
    {
      "cell_type": "code",
      "source": [
        "import numpy as np"
      ],
      "metadata": {
        "id": "lzwtjIa15M1-"
      },
      "execution_count": 10,
      "outputs": []
    },
    {
      "cell_type": "code",
      "source": [
        "def policy_improvement(env, V, gamma=0.9):\n",
        "    \"\"\"\n",
        "    Improve a policy for an MDP.\n",
        "    Parameters:\n",
        "    - env (object): An MDP environment with methods `transition_prob` and `reward`.\n",
        "    - V (dict): The state-value function.\n",
        "    - gamma (float): Discount factor.\n",
        "    \"\"\"\n",
        "    states = env.states\n",
        "    actions = env.actions\n",
        "    policy = {}\n",
        "\n",
        "    print(\"Improving policy...\")\n",
        "    for s in states:\n",
        "        max_value = float('-inf')\n",
        "        best_action = None\n",
        "        for a in actions:\n",
        "            value = sum(env.transition_prob(s, a, s_) * (env.reward(s, a, s_) + gamma * V[s_]) for s_ in states)\n",
        "            if value > max_value:\n",
        "                max_value = value\n",
        "                best_action = a\n",
        "        policy[s] = best_action\n",
        "\n",
        "    print(\"Policy improvement complete.\")\n",
        "    return policy"
      ],
      "metadata": {
        "id": "1jamB_Sj7aS4"
      },
      "execution_count": 11,
      "outputs": []
    },
    {
      "cell_type": "code",
      "source": [
        "def policy_evaluation(env, policy, gamma=0.9, theta=1e-8):\n",
        "    \"\"\"\n",
        "    Evaluate a given policy for an MDP.\n",
        "    Parameters:\n",
        "    - env (object): An MDP environment with methods `transition_prob` and `reward`.\n",
        "    - policy (dict): A mapping of states to actions.\n",
        "    - gamma (float): Discount factor.\n",
        "    - theta (float): Threshold for convergence.\n",
        "    \"\"\"\n",
        "    states = env.states\n",
        "    num_states = len(states)\n",
        "    V = {s: 0 for s in states}  # Initialize state-value function\n",
        "\n",
        "    print(\"Evaluating policy...\")\n",
        "    while True:\n",
        "        delta = 0\n",
        "        for s in states:\n",
        "            v = V[s]\n",
        "            V[s] = sum(env.transition_prob(s, policy[s], s_) * (env.reward(s, policy[s], s_) + gamma * V[s_]) for s_ in states)\n",
        "            delta = max(delta, abs(v - V[s]))\n",
        "        if delta < theta:\n",
        "            break\n",
        "\n",
        "    print(\"Policy evaluation complete.\")\n",
        "    return V"
      ],
      "metadata": {
        "id": "u3jEDzH57U5E"
      },
      "execution_count": 12,
      "outputs": []
    },
    {
      "cell_type": "code",
      "source": [
        "# Example usage\n",
        "class GridWorldEnv:\n",
        "    def __init__(self):\n",
        "        self.states = [(x, y) for x in range(3) for y in range(3)]\n",
        "        self.actions = ['up', 'down', 'left', 'right']\n",
        "\n",
        "    def transition_prob(self, state, action, next_state):\n",
        "        # Implement transition probabilities\n",
        "        return 0.8 if self._next_state(state, action) == next_state else 0.05\n",
        "\n",
        "    def reward(self, state, action, next_state):\n",
        "        # Implement rewards\n",
        "        return 1 if next_state == (2, 2) else 0\n",
        "\n",
        "    def _next_state(self, state, action):\n",
        "        x, y = state\n",
        "        if action == 'up':\n",
        "            return (x, min(y + 1, 2))\n",
        "        elif action == 'down':\n",
        "            return (x, max(y - 1, 0))\n",
        "        elif action == 'left':\n",
        "            return (max(x - 1, 0), y)\n",
        "        elif action == 'right':\n",
        "            return (min(x + 1, 2), y)\n",
        "\n",
        "    env = GridWorldEnv()\n",
        "    initial_policy = {s: 'up' for s in env.states}\n",
        "\n",
        "    # Evaluate the initial policy\n",
        "    print(\"Evaluating initial policy...\")\n",
        "    V = policy_evaluation(env, initial_policy)\n",
        "    print(\"Initial state-value function:\")\n",
        "    for state, value in V.items():\n",
        "        print(f\"State: {state}, Value: {value:.2f}\")\n",
        "\n",
        "    # Improve the policy\n",
        "    print(\"Improving policy...\")\n",
        "    improved_policy = policy_improvement(env, V)\n",
        "    print(\"Improved policy:\")\n",
        "    for state, action in improved_policy.items():\n",
        "        print(f\"State: {state}, Action: {action}\")"
      ],
      "metadata": {
        "colab": {
          "base_uri": "https://localhost:8080/"
        },
        "id": "r2pXBdXo7BH4",
        "outputId": "1e89e021-b33d-48bb-d4e1-a9051fbce995"
      },
      "execution_count": 14,
      "outputs": [
        {
          "output_type": "stream",
          "name": "stdout",
          "text": [
            "Evaluating initial policy...\n",
            "Evaluating policy...\n",
            "Policy evaluation complete.\n",
            "Initial state-value function:\n",
            "State: (0, 0), Value: inf\n",
            "State: (0, 1), Value: inf\n",
            "State: (0, 2), Value: inf\n",
            "State: (1, 0), Value: inf\n",
            "State: (1, 1), Value: inf\n",
            "State: (1, 2), Value: inf\n",
            "State: (2, 0), Value: inf\n",
            "State: (2, 1), Value: inf\n",
            "State: (2, 2), Value: inf\n",
            "Improving policy...\n",
            "Improving policy...\n",
            "Policy improvement complete.\n",
            "Improved policy:\n",
            "State: (0, 0), Action: up\n",
            "State: (0, 1), Action: up\n",
            "State: (0, 2), Action: up\n",
            "State: (1, 0), Action: up\n",
            "State: (1, 1), Action: up\n",
            "State: (1, 2), Action: up\n",
            "State: (2, 0), Action: up\n",
            "State: (2, 1), Action: up\n",
            "State: (2, 2), Action: up\n"
          ]
        }
      ]
    }
  ]
}